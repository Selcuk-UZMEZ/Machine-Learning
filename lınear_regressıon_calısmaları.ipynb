{
  "nbformat": 4,
  "nbformat_minor": 0,
  "metadata": {
    "colab": {
      "name": "lınear-regressıon-calısmaları.ipynb",
      "provenance": [],
      "collapsed_sections": []
    },
    "kernelspec": {
      "name": "python3",
      "display_name": "Python 3"
    },
    "language_info": {
      "name": "python"
    }
  },
  "cells": [
    {
      "cell_type": "code",
      "execution_count": 1,
      "metadata": {
        "id": "HZhTKzxD1fFO"
      },
      "outputs": [],
      "source": [
        "import pandas as pd\n",
        "import matplotlib.pyplot as plt"
      ]
    },
    {
      "cell_type": "code",
      "source": [
        "df = pd.read_csv(\"linear-regression-dataset.csv\",sep = \";\")"
      ],
      "metadata": {
        "id": "SPFLosky1swu"
      },
      "execution_count": 2,
      "outputs": []
    },
    {
      "cell_type": "code",
      "source": [
        "plt.scatter(df.experience,df.salary)\n",
        "plt.xlabel(\"experience\")\n",
        "plt.ylabel(\"salary\")\n",
        "plt.show()"
      ],
      "metadata": {
        "colab": {
          "base_uri": "https://localhost:8080/",
          "height": 279
        },
        "id": "FVqx4vhp1vOV",
        "outputId": "6c0e655f-70cf-4cfe-ce72-a465ecbe2865"
      },
      "execution_count": 3,
      "outputs": [
        {
          "output_type": "display_data",
          "data": {
            "text/plain": [
              "<Figure size 432x288 with 1 Axes>"
            ],
            "image/png": "[encoded data removed]"
          },
          "metadata": {
            "needs_background": "light"
          }
        }
      ]
    },
    {
      "cell_type": "code",
      "source": [
        "#%% linear regression\n",
        "# sklearn library\n",
        "from sklearn.linear_model import LinearRegression\n",
        "\n",
        "# linear regression model\n",
        "linear_reg = LinearRegression()\n",
        "\n",
        "x = df.experience.values.reshape(14,1)\n",
        "y = df.salary.values.reshape(14,1)\n",
        "\n",
        "linear_reg.fit(x,y)"
      ],
      "metadata": {
        "colab": {
          "base_uri": "https://localhost:8080/"
        },
        "id": "H3d5Gv7p1xDs",
        "outputId": "11673f19-013e-4d0f-9979-9e3cda797fb6"
      },
      "execution_count": 4,
      "outputs": [
        {
          "output_type": "execute_result",
          "data": {
            "text/plain": [
              "LinearRegression()"
            ]
          },
          "metadata": {},
          "execution_count": 4
        }
      ]
    },
    {
      "cell_type": "code",
      "source": [
        "#%% prediction\n",
        "import numpy as np\n",
        "\n",
        "b0 = linear_reg.predict([[0]])\n",
        "print(\"b0: \",b0)"
      ],
      "metadata": {
        "colab": {
          "base_uri": "https://localhost:8080/"
        },
        "id": "sOJXdisT10xM",
        "outputId": "ea535d7d-8551-46a3-9f98-a8655b7fd7d4"
      },
      "execution_count": 5,
      "outputs": [
        {
          "output_type": "stream",
          "name": "stdout",
          "text": [
            "b0:  [[1663.89519747]]\n"
          ]
        }
      ]
    },
    {
      "cell_type": "code",
      "source": [
        "b0_ = linear_reg.intercept_\n",
        "print(\"b0_: \",b0_)   # intercept the y-axis"
      ],
      "metadata": {
        "colab": {
          "base_uri": "https://localhost:8080/"
        },
        "id": "WISLaJdb13dt",
        "outputId": "277e96e4-eadf-460b-afbf-046c529e1128"
      },
      "execution_count": 6,
      "outputs": [
        {
          "output_type": "stream",
          "name": "stdout",
          "text": [
            "b0_:  [1663.89519747]\n"
          ]
        }
      ]
    },
    {
      "cell_type": "code",
      "source": [
        "b1 = linear_reg.coef_\n",
        "print(\"b1: \",b1)   # slope\n",
        "\n",
        "# salary = 1663 + 1138*experience \n"
      ],
      "metadata": {
        "colab": {
          "base_uri": "https://localhost:8080/"
        },
        "id": "uakXnLtm15hE",
        "outputId": "dd263080-e8cb-4d78-e52d-ef64a2daf7a4"
      },
      "execution_count": 7,
      "outputs": [
        {
          "output_type": "stream",
          "name": "stdout",
          "text": [
            "b1:  [[1138.34819698]]\n"
          ]
        }
      ]
    },
    {
      "cell_type": "code",
      "source": [
        "new_salary = 1663 + 1138*11\n",
        "print(new_salary)"
      ],
      "metadata": {
        "colab": {
          "base_uri": "https://localhost:8080/"
        },
        "id": "OY_Wa0Ie17pU",
        "outputId": "a478041f-c4eb-4d1d-be19-c3e1e4c4b8f3"
      },
      "execution_count": 8,
      "outputs": [
        {
          "output_type": "stream",
          "name": "stdout",
          "text": [
            "14181\n"
          ]
        }
      ]
    },
    {
      "cell_type": "code",
      "source": [
        "b11 = linear_reg.predict([[11]])\n",
        "print(\"b11: \",b11)"
      ],
      "metadata": {
        "colab": {
          "base_uri": "https://localhost:8080/"
        },
        "id": "wyqqy4CO19ks",
        "outputId": "c0f7cd06-55e7-45cd-aa52-756ec00bf86c"
      },
      "execution_count": 9,
      "outputs": [
        {
          "output_type": "stream",
          "name": "stdout",
          "text": [
            "b11:  [[14185.72536421]]\n"
          ]
        }
      ]
    },
    {
      "cell_type": "code",
      "source": [
        "# visualize line\n",
        "array = np.array([0,1,2,3,4,5,6,7,8,9,10,11,12,13,14,15]).reshape(-1,1)  # experience\n",
        "\n",
        "\n",
        "plt.scatter(x,y)\n",
        "plt.show()"
      ],
      "metadata": {
        "colab": {
          "base_uri": "https://localhost:8080/",
          "height": 265
        },
        "id": "2xTDwxMG1_7N",
        "outputId": "e86d60b3-6df5-4ca6-bb1f-961c513c2797"
      },
      "execution_count": 10,
      "outputs": [
        {
          "output_type": "display_data",
          "data": {
            "text/plain": [
              "<Figure size 432x288 with 1 Axes>"
            ],
            "image/png": "[encoded data removed]"
          },
          "metadata": {
            "needs_background": "light"
          }
        }
      ]
    },
    {
      "cell_type": "code",
      "source": [
        "y_head = linear_reg.predict(array)  # salary\n",
        "\n",
        "plt.plot(array, y_head,color = \"red\")"
      ],
      "metadata": {
        "colab": {
          "base_uri": "https://localhost:8080/",
          "height": 282
        },
        "id": "Z8nzgRIZ2CDM",
        "outputId": "f7c0e9eb-a454-4e08-f969-0effbfb42fb5"
      },
      "execution_count": 11,
      "outputs": [
        {
          "output_type": "execute_result",
          "data": {
            "text/plain": [
              "[<matplotlib.lines.Line2D at 0x7f2c12e9d110>]"
            ]
          },
          "metadata": {},
          "execution_count": 11
        },
        {
          "output_type": "display_data",
          "data": {
            "text/plain": [
              "<Figure size 432x288 with 1 Axes>"
            ],
            "image/png": "[encoded data removed]"
          },
          "metadata": {
            "needs_background": "light"
          }
        }
      ]
    },
    {
      "cell_type": "code",
      "source": [
        "b100 = linear_reg.predict([[100]])\n",
        "print(\"b11: \",b100)\n"
      ],
      "metadata": {
        "colab": {
          "base_uri": "https://localhost:8080/"
        },
        "id": "0rY7CbJz2EO1",
        "outputId": "eda81822-c6f5-4ce5-da23-e5d59b110990"
      },
      "execution_count": 12,
      "outputs": [
        {
          "output_type": "stream",
          "name": "stdout",
          "text": [
            "b11:  [[115498.71489503]]\n"
          ]
        }
      ]
    },
    {
      "cell_type": "code",
      "source": [],
      "metadata": {
        "id": "tFuTKV0k2GcV"
      },
      "execution_count": null,
      "outputs": []
    }
  ]
}